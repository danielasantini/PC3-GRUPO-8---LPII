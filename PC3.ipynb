{
 "cells": [
  {
   "cell_type": "markdown",
   "id": "bb42884b",
   "metadata": {},
   "source": [
    "<h2><center>PRACTICA CALIFICADA 3 </center></h2>\n",
    "<h3><center>GRUPO 8</center></h3>\n",
    "\n",
    "Integrantes:\n",
    "\n",
    "| Nombre        | Codigo | Usuario      |\n",
    "|:--------------|:------:|:------------:|\n",
    "|Santini, Daniela|20181184|danielasantini|\n",
    "|Soto, Carlos|20181157|Xlrics|\n",
    "|Vargas, Kopeycor|20211158|Xlrics|"
   ]
  },
  {
   "cell_type": "code",
   "execution_count": null,
   "id": "d7a43a2e",
   "metadata": {},
   "outputs": [],
   "source": []
  }
 ],
 "metadata": {
  "kernelspec": {
   "display_name": "Python 3 (ipykernel)",
   "language": "python",
   "name": "python3"
  },
  "language_info": {
   "codemirror_mode": {
    "name": "ipython",
    "version": 3
   },
   "file_extension": ".py",
   "mimetype": "text/x-python",
   "name": "python",
   "nbconvert_exporter": "python",
   "pygments_lexer": "ipython3",
   "version": "3.9.12"
  }
 },
 "nbformat": 4,
 "nbformat_minor": 5
}
